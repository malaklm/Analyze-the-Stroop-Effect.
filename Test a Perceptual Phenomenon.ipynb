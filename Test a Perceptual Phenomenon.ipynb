{
 "cells": [
  {
   "cell_type": "markdown",
   "metadata": {},
   "source": [
    "<header>\n",
    "     <img src=\"header.png\"  alt=\"Hedaar\" height=\"200\" width=\"700\">                                 \n",
    "</header>"
   ]
  },
  {
   "cell_type": "markdown",
   "metadata": {},
   "source": [
    "### Analyzing the Stroop Effect\n",
    "Perform the analysis in the space below. Remember to follow [the instructions](https://docs.google.com/document/d/1-OkpZLjG_kX9J6LIQ5IltsqMzVWjh36QpnP2RYpVdPU/pub?embedded=True) and review the [project rubric](https://review.udacity.com/#!/rubrics/71/view) before submitting. Once you've completed the analysis and write-up, download this file as a PDF or HTML file, upload that PDF/HTML into the workspace here (click on the orange Jupyter icon in the upper left then Upload), then use the Submit Project button at the bottom of this page. This will create a zip file containing both this .ipynb doc and the PDF/HTML doc that will be submitted for your project.\n"
   ]
  },
  {
   "cell_type": "markdown",
   "metadata": {},
   "source": [
    "<p><span style=\"background-color: #dfe6e9;\">Q1: What is the independent variable? What is the dependent variable&nbsp;</span></p>\n",
    "<table style=\"height: 63px;\" width=\"500\">\n",
    "<tbody>\n",
    "<tr>\n",
    "<td style=\"width: 242px; background-color: #7ed6df; text-align: center;\"><strong>Independent variable</strong></td>\n",
    "<td style=\"width: 242px; background-color: #7ed6df; text-align: center;\"><strong>Dependent variable</strong></td>\n",
    "</tr>\n",
    "<tr>\n",
    "<td style=\"width: 242px; text-align: center;\">Test Result ( congruent and incongruent )</td>\n",
    "<td style=\"width: 242px; text-align: center;\">Estimated time for each case&nbsp;</td>\n",
    "</tr>\n",
    "</tbody>\n",
    "</table>\n"
   ]
  },
  {
   "cell_type": "code",
   "execution_count": 6,
   "metadata": {},
   "outputs": [
    {
     "data": {
      "text/html": [
       "<div>\n",
       "<style>\n",
       "    .dataframe thead tr:only-child th {\n",
       "        text-align: right;\n",
       "    }\n",
       "\n",
       "    .dataframe thead th {\n",
       "        text-align: left;\n",
       "    }\n",
       "\n",
       "    .dataframe tbody tr th {\n",
       "        vertical-align: top;\n",
       "    }\n",
       "</style>\n",
       "<table border=\"1\" class=\"dataframe\">\n",
       "  <thead>\n",
       "    <tr style=\"text-align: right;\">\n",
       "      <th></th>\n",
       "      <th>Congruent</th>\n",
       "      <th>Incongruent</th>\n",
       "    </tr>\n",
       "  </thead>\n",
       "  <tbody>\n",
       "    <tr>\n",
       "      <th>0</th>\n",
       "      <td>12.079</td>\n",
       "      <td>19.278</td>\n",
       "    </tr>\n",
       "    <tr>\n",
       "      <th>1</th>\n",
       "      <td>16.791</td>\n",
       "      <td>18.741</td>\n",
       "    </tr>\n",
       "    <tr>\n",
       "      <th>2</th>\n",
       "      <td>9.564</td>\n",
       "      <td>21.214</td>\n",
       "    </tr>\n",
       "    <tr>\n",
       "      <th>3</th>\n",
       "      <td>8.630</td>\n",
       "      <td>15.687</td>\n",
       "    </tr>\n",
       "    <tr>\n",
       "      <th>4</th>\n",
       "      <td>14.669</td>\n",
       "      <td>22.803</td>\n",
       "    </tr>\n",
       "  </tbody>\n",
       "</table>\n",
       "</div>"
      ],
      "text/plain": [
       "   Congruent  Incongruent\n",
       "0     12.079       19.278\n",
       "1     16.791       18.741\n",
       "2      9.564       21.214\n",
       "3      8.630       15.687\n",
       "4     14.669       22.803"
      ]
     },
     "execution_count": 6,
     "metadata": {},
     "output_type": "execute_result"
    }
   ],
   "source": [
    "# Import important libraries\n",
    "import pandas as pd\n",
    "import numpy as np\n",
    "from scipy import stats\n",
    "import math\n",
    "import matplotlib.pyplot as plt\n",
    "%matplotlib inline\n",
    "\n",
    "#Read the dataset\n",
    "color = pd.read_csv('stroopdata.csv')\n",
    "color.head()"
   ]
  },
  {
   "cell_type": "code",
   "execution_count": 3,
   "metadata": {},
   "outputs": [
    {
     "data": {
      "text/plain": [
       "(24, 2)"
      ]
     },
     "execution_count": 3,
     "metadata": {},
     "output_type": "execute_result"
    }
   ],
   "source": [
    "color.shape"
   ]
  },
  {
   "cell_type": "markdown",
   "metadata": {},
   "source": [
    "<p><span style=\"background-color: #dfe6e9;\">Q2: What is an appropriate set of hypotheses for this task? Specify your null and alternative hypotheses, and clearly define any notation used. Justify your choices.</span></p>\n",
    "<p>&nbsp;</p>\n",
    "\n",
    "\n",
    "In a Stroop test, participants are presented with a list of words, with each word displayed in a color of ink. This is a sample of the population that represents the test result. \n",
    "This sample has n=24 test estimated time in each case (congruent and incongruent). The population parameter for the mean of congruent reading times represented as μC and population parameter for the mean of incongruent reading times represented as μI\n",
    "    \n",
    "- Null hypotheses (H_0): Assumed there is no difference in time needed to read a congruent displayed text to a incongruent displayed text.  (μC − μI = 0)\n",
    "\n",
    "- Alternative hypotheses (H_A): Assumed there is a significantly different in the time needed to read a congruent displayed text to a incongruent displayed text.\n",
    "(μC − μI != 0)\n"
   ]
  },
  {
   "cell_type": "markdown",
   "metadata": {},
   "source": [
    "<p><span style=\"background-color: #dfe6e9;\">Q3: Report some descriptive statistics regarding this dataset. Include at least one measure of central tendency and at least one measure of variability. The name of the data file is 'stroopdata.csv'.</span></p>\n",
    "\n",
    "<table style=\"height: 229px; width: 548px;\">\n",
    "<tbody>\n",
    "<tr>\n",
    "<td style=\"width: 688px; background-color: #7ed6df; text-align: center;\" colspan=\"3\"><strong>Measures of central tendency&nbsp;</strong></td>\n",
    "</tr>\n",
    "<tr>\n",
    "<td style=\"background-color: #ffffff; width: 108px;\">&nbsp;</td>\n",
    "<td style=\"background-color: #fab1a0; text-align: center; width: 108px;\"><strong>Congruent</strong></td>\n",
    "<td style=\"background-color: #fab1a0; text-align: center; width: 108px;\"><strong>&nbsp;Incongruent&nbsp;</strong></td>\n",
    "</tr>\n",
    "<tr>\n",
    "<td style=\"background-color: #fff0aa; width: 290px;\"><strong><strong>Mean (</strong></strong><strong>x̅)</strong></td>\n",
    "<td style=\"width: 208px; text-align: center;\">\n",
    " 14.05 \n",
    "</td>\n",
    "<td style=\"width: 190px; text-align: center;\">\n",
    " 22.02&nbsp; \n",
    "</td>\n",
    "</tr>\n",
    "<tr>\n",
    "<td style=\"background-color: #fff0aa; width: 290px;\"><strong>Median&nbsp;</strong></td>\n",
    "<td style=\"width: 208px; text-align: center;\">\n",
    " 14.36 \n",
    "</td>\n",
    "<td style=\"width: 190px; text-align: center;\">\n",
    " 21.02 \n",
    "</td>\n",
    "</tr>\n",
    "<tr>\n",
    "<td style=\"background-color: #fff0aa; width: 290px;\"><strong>Mode&nbsp;</strong></td>\n",
    "<td style=\"width: 208px; text-align: center;\">\n",
    " 8.63&nbsp; \n",
    "</td>\n",
    "<td style=\"width: 190px; text-align: center;\">\n",
    " 15.69 \n",
    "</td>\n",
    "</tr>\n",
    "<tr>\n",
    "<td style=\"width: 688px; background-color: #7ed6df; text-align: center;\" colspan=\"3\">&nbsp;<strong>Measures of variability</strong></td>\n",
    "</tr>\n",
    "<tr>\n",
    "<td style=\"background-color: #fff0aa; width: 290px;\"><strong>Rang</strong></td>\n",
    "<td style=\"width: 208px; text-align: center;\">\n",
    " 13.69&nbsp; \n",
    "</td>\n",
    "<td style=\"width: 190px; text-align: center;\">\n",
    "19.57\n",
    "</td>\n",
    "</tr>\n",
    "<tr>\n",
    "<td style=\"background-color: #fff0aa; width: 290px;\"><strong><strong>Interquartile range (IQR)</strong></strong></td>\n",
    "<td style=\"width: 208px; text-align: center;\">\n",
    " 4.30 \n",
    "</td>\n",
    "<td style=\"width: 190px; text-align: center;\">\n",
    " 5.33 \n",
    "</td>\n",
    "</tr>\n",
    "<tr>\n",
    "<td style=\"background-color: #fff0aa; width: 290px;\"><strong>Standard Deviation (&sigma;)</strong></td>\n",
    "<td style=\"width: 208px; text-align: center;\">\n",
    "3.55&nbsp;\n",
    "</td>\n",
    "<td style=\"width: 190px; text-align: center;\">\n",
    " 4.80 \n",
    "</td>\n",
    "</tr>\n",
    "</tbody>\n",
    "</table>"
   ]
  },
  {
   "cell_type": "code",
   "execution_count": 20,
   "metadata": {},
   "outputs": [
    {
     "data": {
      "text/html": [
       "<div>\n",
       "<style>\n",
       "    .dataframe thead tr:only-child th {\n",
       "        text-align: right;\n",
       "    }\n",
       "\n",
       "    .dataframe thead th {\n",
       "        text-align: left;\n",
       "    }\n",
       "\n",
       "    .dataframe tbody tr th {\n",
       "        vertical-align: top;\n",
       "    }\n",
       "</style>\n",
       "<table border=\"1\" class=\"dataframe\">\n",
       "  <thead>\n",
       "    <tr style=\"text-align: right;\">\n",
       "      <th></th>\n",
       "      <th>Congruent</th>\n",
       "      <th>Incongruent</th>\n",
       "    </tr>\n",
       "  </thead>\n",
       "  <tbody>\n",
       "    <tr>\n",
       "      <th>count</th>\n",
       "      <td>24.000000</td>\n",
       "      <td>24.000000</td>\n",
       "    </tr>\n",
       "    <tr>\n",
       "      <th>mean</th>\n",
       "      <td>14.051125</td>\n",
       "      <td>22.015917</td>\n",
       "    </tr>\n",
       "    <tr>\n",
       "      <th>std</th>\n",
       "      <td>3.559358</td>\n",
       "      <td>4.797057</td>\n",
       "    </tr>\n",
       "    <tr>\n",
       "      <th>min</th>\n",
       "      <td>8.630000</td>\n",
       "      <td>15.687000</td>\n",
       "    </tr>\n",
       "    <tr>\n",
       "      <th>25%</th>\n",
       "      <td>11.895250</td>\n",
       "      <td>18.716750</td>\n",
       "    </tr>\n",
       "    <tr>\n",
       "      <th>50%</th>\n",
       "      <td>14.356500</td>\n",
       "      <td>21.017500</td>\n",
       "    </tr>\n",
       "    <tr>\n",
       "      <th>75%</th>\n",
       "      <td>16.200750</td>\n",
       "      <td>24.051500</td>\n",
       "    </tr>\n",
       "    <tr>\n",
       "      <th>max</th>\n",
       "      <td>22.328000</td>\n",
       "      <td>35.255000</td>\n",
       "    </tr>\n",
       "  </tbody>\n",
       "</table>\n",
       "</div>"
      ],
      "text/plain": [
       "       Congruent  Incongruent\n",
       "count  24.000000    24.000000\n",
       "mean   14.051125    22.015917\n",
       "std     3.559358     4.797057\n",
       "min     8.630000    15.687000\n",
       "25%    11.895250    18.716750\n",
       "50%    14.356500    21.017500\n",
       "75%    16.200750    24.051500\n",
       "max    22.328000    35.255000"
      ]
     },
     "execution_count": 20,
     "metadata": {},
     "output_type": "execute_result"
    }
   ],
   "source": [
    "\"\"\"\n",
    "This function is very useful to generate descriptive statistics that summarize the central tendency\n",
    ", dispersion, and shape of a dataset’s distribution, excluding NaN values. \n",
    "(https://pandas.pydata.org/pandas-docs/stable/generated/pandas.DataFrame.describe.html)\n",
    "\"\"\"\n",
    "color.describe()"
   ]
  },
  {
   "cell_type": "code",
   "execution_count": 21,
   "metadata": {},
   "outputs": [
    {
     "data": {
      "text/plain": [
       "ModeResult(mode=array([[  8.63 ,  15.687]]), count=array([[1, 1]]))"
      ]
     },
     "execution_count": 21,
     "metadata": {},
     "output_type": "execute_result"
    }
   ],
   "source": [
    "\"\"\"\n",
    "The previous function doesn't calculate the mode, so this is a good way to calculate it\n",
    "by using stats from Scipy library.\n",
    "(http://www.datasciencemadesimple.com/mode-function-python-pandas-dataframe-row-column-wise-mode/)\n",
    "The method returns an array contain the mode for each column\n",
    "\"\"\"\n",
    "stats.mode(color)"
   ]
  },
  {
   "cell_type": "code",
   "execution_count": 13,
   "metadata": {},
   "outputs": [
    {
     "name": "stdout",
     "output_type": "stream",
     "text": [
      "Congruent Range =  13.698\n",
      "Incongruent Range =  19.568\n"
     ]
    }
   ],
   "source": [
    "# Range \n",
    "C_range = color['Congruent'].max() - color['Congruent'].min()\n",
    "print(\"Congruent Range = \",C_range)\n",
    "\n",
    "I_range = color['Incongruent'].max() - color['Incongruent'].min()\n",
    "print(\"Incongruent Range = \",I_range)"
   ]
  },
  {
   "cell_type": "code",
   "execution_count": 9,
   "metadata": {},
   "outputs": [
    {
     "name": "stdout",
     "output_type": "stream",
     "text": [
      "Congruent IQR =  4.3054999999999986\n",
      "Incongruent IQR =  5.33475\n"
     ]
    }
   ],
   "source": [
    "# Interquartile range (IQR)\n",
    "C_q1 = color['Congruent'].quantile(.25)\n",
    "C_q3 = color['Congruent'].quantile(.75)\n",
    "print(\"Congruent IQR = \",C_q3 - C_q1)\n",
    "\n",
    "\n",
    "I_q1 = color['Incongruent'].quantile(.25)\n",
    "I_q3 = color['Incongruent'].quantile(.75)\n",
    "print(\"Incongruent IQR = \",I_q3 - I_q1)"
   ]
  },
  {
   "cell_type": "markdown",
   "metadata": {},
   "source": [
    "<p><span style=\"background-color: #dfe6e9;\">Q4: Provide one or two visualizations that show the distribution of the sample data. Write one or two sentences noting what you observe about the plot or plots.</span></p>"
   ]
  },
  {
   "cell_type": "code",
   "execution_count": 69,
   "metadata": {},
   "outputs": [
    {
     "data": {
      "image/png": "[encoded data removed]",
      "text/plain": [
       "<matplotlib.figure.Figure at 0x7fa35c83f9b0>"
      ]
     },
     "metadata": {
      "needs_background": "light"
     },
     "output_type": "display_data"
    }
   ],
   "source": [
    "Congruent = color.Congruent\n",
    "Incongruent = color.Incongruent\n",
    "\n",
    "\n",
    "#Figure size \n",
    "plt.figure(figsize=(15,5))\n",
    "#Title of the plot\n",
    "plt.title(\"Stroop Effect Sample Distribution\")\n",
    "\n",
    "\n",
    "\n",
    "#plot 1 (Congruent) we set set alpha = 0.5 to reduce the chart opacity\n",
    "plt.hist(Congruent, alpha=0.5, label='Congruent')\n",
    "# This function set a dotted line in the mean of the data\n",
    "plt.axvline(Congruent.mean(), color='k', linestyle='dashed', linewidth=1,label='Mean')\n",
    "plt.axvline(Congruent.median(), color='k', linestyle='solid', linewidth=1,label='Median')\n",
    "\n",
    "#plot 2 (Incongruent)\n",
    "plt.hist(Incongruent, alpha=0.5, label='Incongruent',)\n",
    "plt.axvline(Incongruent.mean(), color='k', linestyle='dashed', linewidth=1)\n",
    "plt.axvline(Incongruent.median(), color='k', linestyle='solid', linewidth=1)\n",
    "\n",
    "# Legend position\n",
    "plt.legend(loc='upper right')\n",
    "\n",
    "# Labels title\n",
    "plt.xlabel('Test case')\n",
    "plt.ylabel('Frequency')\n",
    "\n",
    "\"\"\"\n",
    "This function set the range of x values because there are differences between bins size \n",
    "(the default start from  is 0 to 10 then 10 to 15) \n",
    "\"\"\"\n",
    "plt.xlim(0, 40)\n",
    "plt.show()"
   ]
  },
  {
   "cell_type": "markdown",
   "metadata": {},
   "source": [
    "- Let's first talking about the Congruent distribution the shape of this variable is right-skewed, the range values of this variable approximately between 8 and 23. The mean of it is 14 median is 14.3, and there are no outliers.</span>\n",
    "\n",
    "- Second, the shape of the Incongruent distribution variable is also right-skewed. The range between 16 to 35 and it's affected by the outliers in 35. the mean equal 25, the median equal 23."
   ]
  },
  {
   "cell_type": "markdown",
   "metadata": {},
   "source": [
    "<p><span style=\"background-color: #dfe6e9;\">Q5: Now, perform the statistical test and report your results. What is your confidence level or Type I error associated with your test? What is your conclusion regarding the hypotheses you set up? Did the results match up with your expectations? **Hint:**  Think about what is being measured on each individual, and what statistic best captures how an individual reacts in each environment.</span></p>"
   ]
  },
  {
   "cell_type": "code",
   "execution_count": 15,
   "metadata": {},
   "outputs": [
    {
     "data": {
      "text/plain": [
       "count    24.000000\n",
       "mean      7.964792\n",
       "std       4.864827\n",
       "min       1.950000\n",
       "25%       3.645500\n",
       "50%       7.666500\n",
       "75%      10.258500\n",
       "max      21.919000\n",
       "Name: diff, dtype: float64"
      ]
     },
     "execution_count": 15,
     "metadata": {},
     "output_type": "execute_result"
    }
   ],
   "source": [
    "# This is a very good reference \n",
    "#(https://machinelearningmastery.com/how-to-code-the-students-t-test-from-scratch-in-python/)\n",
    "# http://bayes.acs.unt.edu:8083/BayesContent/class/Jon/ISSS_SC/Module008/isss_m8_introttests/node3.html\n",
    "\n",
    "# 1) Add a new column that contains the difference between the two column\n",
    "color['diff'] = color['Incongruent'] - color['Congruent']\n",
    "\n",
    "# Summary of this column \n",
    "color['diff'].describe()"
   ]
  },
  {
   "cell_type": "code",
   "execution_count": 67,
   "metadata": {},
   "outputs": [
    {
     "data": {
      "image/png": "[encoded data removed]",
      "text/plain": [
       "<matplotlib.figure.Figure at 0x7ffa843d12b0>"
      ]
     },
     "metadata": {
      "needs_background": "light"
     },
     "output_type": "display_data"
    }
   ],
   "source": [
    "# Histogram of diff column\n",
    "\n",
    "diff = color['diff'] \n",
    "\n",
    "#Figure size \n",
    "plt.figure(figsize=(15,5))\n",
    "#Title of the plot\n",
    "plt.title(\"Distribution of the difference between congruent and Incongruent test\")\n",
    "\n",
    "#plot 3 (Difference)\n",
    "plt.hist(diff, alpha=0.5, label='Difference',color=\"#1dd1a1\")\n",
    "plt.axvline(diff.mean(), color='k', linestyle='dashed', linewidth=1,label='Mean')\n",
    "plt.axvline(diff.median(), color='k', linestyle='solid', linewidth=1,label='Median')\n",
    "\n",
    "# Legend position\n",
    "plt.legend(loc='upper right')\n",
    "\n",
    "# Labels title\n",
    "plt.xlabel('Difference')\n",
    "plt.ylabel('Frequency')\n",
    "\n",
    "\"\"\"\n",
    "This function set the range of x values because there are differences between bins size \n",
    "(the default start from  is 0 to 10 then 10 to 15) \n",
    "\"\"\"\n",
    "plt.xlim(0, 40)\n",
    "plt.show()"
   ]
  },
  {
   "cell_type": "markdown",
   "metadata": {},
   "source": [
    "The the difference between congruent and Incongruent test is between 2 and 21, the maen is equal 7.9 and the median is equal 7.6, there are outliers in 16 and 20 and the shape is right-skewed"
   ]
  },
  {
   "cell_type": "code",
   "execution_count": 62,
   "metadata": {},
   "outputs": [
    {
     "name": "stdout",
     "output_type": "stream",
     "text": [
      " --------------------------------\n",
      " |     T-test =  8.02070694411   |\n",
      "  --------------------------------\n",
      " | p-value =  4.10300058373e-08  |\n",
      "  --------------------------------\n",
      " |         Alpha =  0.05         |\n",
      "  --------------------------------\n",
      " |Critical Value = 1.71387152775 |\n",
      "  --------------------------------\n",
      "\n"
     ]
    }
   ],
   "source": [
    "# 2) Calculate the mean of difference\n",
    "diff_mean = color['diff'].mean()\n",
    "\n",
    "# 3) Calculate the Standard deviation of difference\n",
    "diff_sd = color['diff'].std()\n",
    "\n",
    "# 4) Calculate the Degree of freedom ( the n is equal in both column)\n",
    "n = color.shape[0]\n",
    "df = n - 1 \n",
    "\n",
    "# 5) Standard error of the difference\n",
    "sd_error = diff_sd / math.sqrt(n)\n",
    "\n",
    "# 6) Calculate the t-test\n",
    "t_test =  diff_mean / sd_error\n",
    "\n",
    "# 7) The critical value can be calculated using this function is in SciPy\n",
    "# alpha = 0.05 (95% confidence)\n",
    "alpha = 0.05\n",
    "cv = stats.t.ppf(1.0 - alpha, df)\n",
    "\n",
    "\n",
    "# 8) Calculate the p-value\n",
    "p = (1 - stats.t.cdf(abs(t_test), df)) * 2\n",
    "\n",
    "\n",
    "# 9) Results\n",
    "\n",
    "print(\" --------------------------------\\n\",\n",
    "      \"|     T-test = \",t_test,\"  |\\n\"\n",
    "     ,\" --------------------------------\\n\"\n",
    "     ,'| p-value = ',p,\" |\\n\"\n",
    "     ,\" --------------------------------\\n\"\n",
    "     ,'|         Alpha = ',alpha,\"        |\\n\"\n",
    "     ,\" --------------------------------\\n\"\n",
    "     ,'|Critical Value =',cv,\"|\\n\"\n",
    "     ,\" --------------------------------\\n\")"
   ]
  },
  {
   "cell_type": "markdown",
   "metadata": {},
   "source": [
    "The p-value is less than the alpha level: p < 0.05 so we reject the Null Hypothesis with a 99% Confidence level, which means we can &lsquo;accept&rsquo; our alternative hypotheses and conclude that there is a significant difference between congruent and incongruent test. This result match up with my expectations."
   ]
  },
  {
   "cell_type": "markdown",
   "metadata": {},
   "source": [
    "<p><span style=\"background-color: #dfe6e9;\">Q6: Optional: What do you think is responsible for the effects observed? Can you think of an alternative or similar task that would result in a similar effect? Some research about the problem will be helpful for thinking about these two questions!</span></p>"
   ]
  },
  {
   "cell_type": "markdown",
   "metadata": {},
   "source": [
    "<p><span style=\"background-color: #fff0aa;\"> After doing some research about the Stroop Effect, the effect of this test is depends on brain processing because when you do the test you focus on the color and the word. The theories related that explain this effect such as:</span></p>\n",
    "\n",
    "<p>1) The speed of Processing Theory: the interference occurs because words are read faster than colors are named.<br />2) Selective Attention Theory: the interference occurs because naming colors requires more attention than reading words.</p>\n",
    "\n",
    "<p><span style=\"background-color: #fff0aa;\">More experiments to try:</span></p>\n",
    "\n",
    "<p>1) Turn the words upside down or rotate them 90 degrees.<br />2) Turn the words \"inside out.\"<br />3) Use emotional words such as \"sad\" or \"happy\" or \"depressed\" or \"angry.\"<br />4) Color only half of the word or color only the first and last letter of each word.</p>\n",
    "\n",
    "Reference (https://faculty.washington.edu/chudler/words.html)"
   ]
  },
  {
   "cell_type": "code",
   "execution_count": 4,
   "metadata": {},
   "outputs": [
    {
     "data": {
      "text/plain": [
       "0"
      ]
     },
     "execution_count": 4,
     "metadata": {},
     "output_type": "execute_result"
    }
   ],
   "source": [
    "from subprocess import call\n",
    "call(['python', '-m', 'nbconvert', 'Test a Perceptual Phenomenon.ipynb'])"
   ]
  },
  {
   "cell_type": "markdown",
   "metadata": {},
   "source": [
    "<header>\n",
    "     <img src=\"footer.png\"  alt=\"Hedaar\" height=\"200\" width=\"700\">                                 \n",
    "</header>"
   ]
  }
 ],
 "metadata": {
  "kernelspec": {
   "display_name": "Python 3",
   "language": "python",
   "name": "python3"
  },
  "language_info": {
   "codemirror_mode": {
    "name": "ipython",
    "version": 3
   },
   "file_extension": ".py",
   "mimetype": "text/x-python",
   "name": "python",
   "nbconvert_exporter": "python",
   "pygments_lexer": "ipython3",
   "version": "3.6.3"
  }
 },
 "nbformat": 4,
 "nbformat_minor": 2
}
